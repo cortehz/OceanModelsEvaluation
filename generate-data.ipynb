{
 "cells": [
  {
   "cell_type": "code",
   "execution_count": null,
   "metadata": {},
   "outputs": [],
   "source": [
    "import intake\n",
    "import xarray as xr\n",
    "import regionmask\n",
    "import matplotlib.pyplot as plt\n",
    "from xmip.preprocessing import combined_preprocessing\n",
    "import numpy as np\n",
    "import dask\n",
    "from xmip.regionmask import merged_mask"
   ]
  },
  {
   "cell_type": "code",
   "execution_count": null,
   "metadata": {},
   "outputs": [],
   "source": [
    "# Open the catalog and select the dataset source IDs\n",
    "col_url = \"https://raw.githubusercontent.com/NCAR/intake-esm-datastore/master/catalogs/pangeo-cmip6.json\"\n",
    "%time col = intake.open_esm_datastore(col_url)\n",
    "sourceIds = ['CAMS-CSM1-0', 'CMCC-CM2-SR5', 'CMCC-ESM2', \n",
    "             'ACCESS-ESM1-5', 'ACCESS-CM2', 'MPI-ESM1-2-LR']"
   ]
  },
  {
   "cell_type": "code",
   "execution_count": null,
   "metadata": {},
   "outputs": [],
   "source": [
    "# Search through the catalog for the models and variables of interest (THETAO) and AREACELLO and Source IDs\n",
    "cat = col.search(member_id='r1i1p1f1',\n",
    "                 experiment_id='historical',\n",
    "                 activity_id='CMIP',\n",
    "                 table_id='Omon',\n",
    "                 variable_id='thetao',\n",
    "                 grid_label='gn',\n",
    "                 source_id=sourceIds)\n",
    "\n",
    "with dask.config.set(**{'array.slicing.split_large_chunks': True}):\n",
    "       data_dict = cat.to_dataset_dict(cdf_kwargs={\"chunks\": {\"time\": -1}, \n",
    "        \"use_cftime\": True}, preprocess=combined_preprocessing)\n",
    "\n",
    "\n",
    "query = col.search(\n",
    "    member_id='r1i1p1f1',\n",
    "                 experiment_id='historical',\n",
    "                 activity_id='CMIP',\n",
    "                 table_id='Omon',\n",
    "                 variable_id='areacello',\n",
    "                 grid_label='gn',\n",
    "                 source_id=sourceIds)\n",
    "areacello = query.to_dataset_dict(cdf_kwargs={\"chunks\": {\"time\": -1}, \"use_cftime\": True},\n",
    "                                preprocess=combined_preprocessing)"
   ]
  },
  {
   "cell_type": "code",
   "execution_count": null,
   "metadata": {},
   "outputs": [],
   "source": [
    "# Compute and save AREACELLO data for 1990-2000 to netcdf\n",
    "arrayOfareacello = [areacello]\n",
    "\n",
    "for data in arrayOfareacello:\n",
    "    for key in data:\n",
    "        data[key].to_netcdf('./areacello-multimodel/_' +\n",
    "         data[key].attrs['intake_esm_dataset_key'] + \n",
    "         '_areacello-historical_1990-2000.nc')"
   ]
  },
  {
   "cell_type": "code",
   "execution_count": null,
   "metadata": {},
   "outputs": [],
   "source": [
    "# Compute and save THETAO data for 1990-2000 to netcdf\n",
    "arrayOfDataDict = [data_dict]\n",
    "\n",
    "for data in arrayOfDataDict:\n",
    "    for key in data:\n",
    "        firstTenYears = data[key].sel(time=slice('1990', '2000')).mean(dim='time')\n",
    "        firstTenYears.compute()        \n",
    "        firstTenYears.to_netcdf('./thetao-models-1990-2000/_' \n",
    "                                + data[key].attrs['source_id'] \n",
    "                                + '_historical_1990-2000.nc')"
   ]
  }
 ],
 "metadata": {
  "kernelspec": {
   "display_name": "Python 3.10.8 64-bit",
   "language": "python",
   "name": "python3"
  },
  "language_info": {
   "name": "python",
   "version": "3.10.8"
  },
  "orig_nbformat": 4,
  "vscode": {
   "interpreter": {
    "hash": "b0fa6594d8f4cbf19f97940f81e996739fb7646882a419484c72d19e05852a7e"
   }
  }
 },
 "nbformat": 4,
 "nbformat_minor": 2
}
