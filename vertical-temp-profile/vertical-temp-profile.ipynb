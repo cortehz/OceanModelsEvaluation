{
 "cells": [
  {
   "cell_type": "code",
   "execution_count": null,
   "metadata": {},
   "outputs": [],
   "source": [
    "import intake\n",
    "import xarray as xr\n",
    "import regionmask\n",
    "import matplotlib.pyplot as plt\n",
    "from xmip.preprocessing import combined_preprocessing\n",
    "import numpy as np\n",
    "import dask\n",
    "from xmip.regionmask import merged_mask\n",
    "import glob\n",
    "import os\n",
    "\n",
    "basins = regionmask.defined_regions.natural_earth_v4_1_0.ocean_basins_50"
   ]
  },
  {
   "cell_type": "code",
   "execution_count": null,
   "metadata": {},
   "outputs": [],
   "source": [
    "# Get the THETAO data files from saved\n",
    "thetaofiles = glob.glob('./thetao-models-1990-2000/*.nc')\n",
    "thetaofiles.sort()\n",
    "\n",
    "# Get the AREACELLO data files from saved\n",
    "areacellofiles = glob.glob('./areacello-multimodel/*.nc')\n",
    "areacellofiles.sort()"
   ]
  },
  {
   "cell_type": "code",
   "execution_count": null,
   "metadata": {},
   "outputs": [],
   "source": [
    "## Setting figure configurations\n",
    "fig, ax = plt.subplots(1, 1,constrained_layout=True, figsize=(10,15))\n",
    "\n",
    "legendValues = []\n",
    "\n",
    "##loop through saved netCDF THETAO and AREACELLO datasets\n",
    "for thetaofile, areacellofile in zip(thetaofiles, areacellofiles):\n",
    "    \n",
    "    #obtain source_id from file\n",
    "    modelName = thetaofile.split('_')[1]\n",
    "   \n",
    "    #open datasets using XArrays     \n",
    "    thetao_dataset = xr.open_dataset(thetaofile)\n",
    "    areacello_dataset = xr.open_dataset(areacellofile)\n",
    "    \n",
    "    #Select the basins     \n",
    "    mask = merged_mask(basins, thetao_dataset)        \n",
    "    \n",
    "    #Append model names to figure         \n",
    "    legendValues.append(modelName)\n",
    "    \n",
    "    #Select mask ocean regions     \n",
    "    ds_masked = thetao_dataset.where(np.logical_or(np.logical_or(mask == 2, mask==3),mask==4))\n",
    "    area_masked = areacello_dataset.where(np.logical_or(np.logical_or(mask == 2, mask==3),mask==4))\n",
    "    \n",
    "    #Obtain a weighted mean for the masked Thetao and compute     \n",
    "    yy = (ds_masked.thetao[0,:,:,:] * area_masked.areacello[0,:,:]).sum(['x', 'y'])/area_masked.areacello[0,:,:].sum(['x', 'y'])\n",
    "    yy.compute()\n",
    "    \n",
    "    # Plot the vertical temperature profile     \n",
    "    yy.plot(y='lev', ax=ax, add_legend=True)\n",
    "    \n",
    "    plt.legend(legendValues, loc='lower right')\n",
    "    \n",
    "    plt.title('Historical Model Comparison 1990 - 2000')\n",
    "    \n",
    "plt.gca().invert_yaxis()\n",
    "\n",
    "plt.savefig('basin.png', dpi=300)"
   ]
  }
 ],
 "metadata": {
  "kernelspec": {
   "display_name": "Python 3.10.8 64-bit",
   "language": "python",
   "name": "python3"
  },
  "language_info": {
   "name": "python",
   "version": "3.10.8"
  },
  "orig_nbformat": 4,
  "vscode": {
   "interpreter": {
    "hash": "b0fa6594d8f4cbf19f97940f81e996739fb7646882a419484c72d19e05852a7e"
   }
  }
 },
 "nbformat": 4,
 "nbformat_minor": 2
}
