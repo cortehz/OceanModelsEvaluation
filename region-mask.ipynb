{
 "cells": [
  {
   "cell_type": "code",
   "execution_count": 13,
   "metadata": {},
   "outputs": [],
   "source": [
    "# from dask.distributed import Client\n",
    "\n",
    "# client = Client(\"tcp://10.32.0.154:42411\")\n",
    "# client"
   ]
  },
  {
   "cell_type": "code",
   "execution_count": 14,
   "metadata": {},
   "outputs": [
    {
     "name": "stdout",
     "output_type": "stream",
     "text": [
      "Collecting package metadata (current_repodata.json): done\n",
      "Solving environment: failed with initial frozen solve. Retrying with flexible solve.\n",
      "Collecting package metadata (repodata.json): done\n",
      "Solving environment: failed with initial frozen solve. Retrying with flexible solve.\n",
      "\n",
      "PackagesNotFoundError: The following packages are not available from current channels:\n",
      "\n",
      "  - //github.com/mathause/regionmask.git\n",
      "\n",
      "Current channels:\n",
      "\n",
      "  - https://conda.anaconda.org/conda-forge/osx-64\n",
      "  - https://conda.anaconda.org/conda-forge/noarch\n",
      "  - https://repo.anaconda.com/pkgs/main/osx-64\n",
      "  - https://repo.anaconda.com/pkgs/main/noarch\n",
      "  - https://repo.anaconda.com/pkgs/r/osx-64\n",
      "  - https://repo.anaconda.com/pkgs/r/noarch\n",
      "\n",
      "To search for alternate channels that may provide the conda package you're\n",
      "looking for, navigate to\n",
      "\n",
      "    https://anaconda.org\n",
      "\n",
      "and use the search bar at the top of the page.\n",
      "\n",
      "\n",
      "\n",
      "Note: you may need to restart the kernel to use updated packages.\n",
      "Collecting package metadata (current_repodata.json): done\n",
      "Solving environment: failed with initial frozen solve. Retrying with flexible solve.\n",
      "Collecting package metadata (repodata.json): done\n",
      "Solving environment: failed with initial frozen solve. Retrying with flexible solve.\n",
      "\n",
      "PackagesNotFoundError: The following packages are not available from current channels:\n",
      "\n",
      "  - //github.com/jbusecke/cmip6_preprocessing.git\n",
      "\n",
      "Current channels:\n",
      "\n",
      "  - https://conda.anaconda.org/conda-forge/osx-64\n",
      "  - https://conda.anaconda.org/conda-forge/noarch\n",
      "  - https://repo.anaconda.com/pkgs/main/osx-64\n",
      "  - https://repo.anaconda.com/pkgs/main/noarch\n",
      "  - https://repo.anaconda.com/pkgs/r/osx-64\n",
      "  - https://repo.anaconda.com/pkgs/r/noarch\n",
      "\n",
      "To search for alternate channels that may provide the conda package you're\n",
      "looking for, navigate to\n",
      "\n",
      "    https://anaconda.org\n",
      "\n",
      "and use the search bar at the top of the page.\n",
      "\n",
      "\n",
      "\n",
      "Note: you may need to restart the kernel to use updated packages.\n"
     ]
    }
   ],
   "source": [
    "%conda install -c conda-forge git+https://github.com/mathause/regionmask.git\n",
    "%conda install -c conda-forge git+https://github.com/jbusecke/cmip6_preprocessing.git\n"
   ]
  },
  {
   "cell_type": "markdown",
   "metadata": {},
   "source": [
    "Lets import ocean temperature data from a variety of models to see if the masking works well."
   ]
  },
  {
   "cell_type": "code",
   "execution_count": 15,
   "metadata": {},
   "outputs": [],
   "source": [
    "import regionmask\n",
    "import intake\n",
    "import matplotlib.pyplot as plt\n",
    "from cmip6_preprocessing.preprocessing import combined_preprocessing\n",
    "import xarray as xr\n",
    "import numpy as np"
   ]
  },
  {
   "cell_type": "markdown",
   "metadata": {},
   "source": []
  },
  {
   "cell_type": "code",
   "execution_count": 17,
   "metadata": {},
   "outputs": [
    {
     "name": "stdout",
     "output_type": "stream",
     "text": [
      "<function combined_preprocessing at 0x18aa31af0> combined_preprocessing print\n",
      "\n",
      "--> The keys in the returned dictionary of datasets are constructed as follows:\n",
      "\t'activity_id.institution_id.source_id.experiment_id.table_id.grid_label'\n"
     ]
    },
    {
     "ename": "RuntimeError",
     "evalue": "Failed to apply pre-processing function: combined_preprocessing",
     "output_type": "error",
     "traceback": [
      "\u001b[0;31m---------------------------------------------------------------------------\u001b[0m",
      "\u001b[0;31mTypeError\u001b[0m                                 Traceback (most recent call last)",
      "File \u001b[0;32m~/miniconda3/lib/python3.9/site-packages/intake_esm/merge_util.py:312\u001b[0m, in \u001b[0;36m_open_asset\u001b[0;34m(path, data_format, zarr_kwargs, cdf_kwargs, preprocess, varname, requested_variables)\u001b[0m\n\u001b[1;32m    <a href='file:///Users/enyi/miniconda3/lib/python3.9/site-packages/intake_esm/merge_util.py?line=310'>311</a>\u001b[0m \u001b[39mtry\u001b[39;00m:\n\u001b[0;32m--> <a href='file:///Users/enyi/miniconda3/lib/python3.9/site-packages/intake_esm/merge_util.py?line=311'>312</a>\u001b[0m     ds \u001b[39m=\u001b[39m preprocess(ds)\n\u001b[1;32m    <a href='file:///Users/enyi/miniconda3/lib/python3.9/site-packages/intake_esm/merge_util.py?line=312'>313</a>\u001b[0m \u001b[39mexcept\u001b[39;00m \u001b[39mException\u001b[39;00m \u001b[39mas\u001b[39;00m exc:\n",
      "File \u001b[0;32m~/miniconda3/lib/python3.9/site-packages/cmip6_preprocessing/preprocessing.py:462\u001b[0m, in \u001b[0;36mcombined_preprocessing\u001b[0;34m(ds)\u001b[0m\n\u001b[1;32m    <a href='file:///Users/enyi/miniconda3/lib/python3.9/site-packages/cmip6_preprocessing/preprocessing.py?line=460'>461</a>\u001b[0m \u001b[39m# fix the units\u001b[39;00m\n\u001b[0;32m--> <a href='file:///Users/enyi/miniconda3/lib/python3.9/site-packages/cmip6_preprocessing/preprocessing.py?line=461'>462</a>\u001b[0m ds \u001b[39m=\u001b[39m correct_units(ds)\n\u001b[1;32m    <a href='file:///Users/enyi/miniconda3/lib/python3.9/site-packages/cmip6_preprocessing/preprocessing.py?line=462'>463</a>\u001b[0m \u001b[39m# rename the `bounds` according to their style (bound or vertex)\u001b[39;00m\n",
      "File \u001b[0;32m~/miniconda3/lib/python3.9/site-packages/cmip6_preprocessing/preprocessing.py:223\u001b[0m, in \u001b[0;36mcorrect_units\u001b[0;34m(ds)\u001b[0m\n\u001b[1;32m    <a href='file:///Users/enyi/miniconda3/lib/python3.9/site-packages/cmip6_preprocessing/preprocessing.py?line=220'>221</a>\u001b[0m \u001b[39mtry\u001b[39;00m:\n\u001b[1;32m    <a href='file:///Users/enyi/miniconda3/lib/python3.9/site-packages/cmip6_preprocessing/preprocessing.py?line=221'>222</a>\u001b[0m     \u001b[39m# exclude salinity from the quantification (see https://github.com/jbusecke/cmip6_preprocessing/pull/160#issuecomment-878627027 for details)\u001b[39;00m\n\u001b[0;32m--> <a href='file:///Users/enyi/miniconda3/lib/python3.9/site-packages/cmip6_preprocessing/preprocessing.py?line=222'>223</a>\u001b[0m     quantified \u001b[39m=\u001b[39m ds\u001b[39m.\u001b[39;49mpint\u001b[39m.\u001b[39;49mquantify(_unit_overrides)\n\u001b[1;32m    <a href='file:///Users/enyi/miniconda3/lib/python3.9/site-packages/cmip6_preprocessing/preprocessing.py?line=223'>224</a>\u001b[0m     target_units \u001b[39m=\u001b[39m {\n\u001b[1;32m    <a href='file:///Users/enyi/miniconda3/lib/python3.9/site-packages/cmip6_preprocessing/preprocessing.py?line=224'>225</a>\u001b[0m         var: target_unit\n\u001b[1;32m    <a href='file:///Users/enyi/miniconda3/lib/python3.9/site-packages/cmip6_preprocessing/preprocessing.py?line=225'>226</a>\u001b[0m         \u001b[39mfor\u001b[39;00m var, target_unit \u001b[39min\u001b[39;00m _desired_units\u001b[39m.\u001b[39mitems()\n\u001b[1;32m    <a href='file:///Users/enyi/miniconda3/lib/python3.9/site-packages/cmip6_preprocessing/preprocessing.py?line=226'>227</a>\u001b[0m         \u001b[39mif\u001b[39;00m var \u001b[39min\u001b[39;00m quantified\n\u001b[1;32m    <a href='file:///Users/enyi/miniconda3/lib/python3.9/site-packages/cmip6_preprocessing/preprocessing.py?line=227'>228</a>\u001b[0m     }\n",
      "File \u001b[0;32m~/miniconda3/lib/python3.9/site-packages/pint_xarray/accessors.py:1040\u001b[0m, in \u001b[0;36mPintDatasetAccessor.quantify\u001b[0;34m(self, units, unit_registry, **unit_kwargs)\u001b[0m\n\u001b[1;32m   <a href='file:///Users/enyi/miniconda3/lib/python3.9/site-packages/pint_xarray/accessors.py?line=1038'>1039</a>\u001b[0m \u001b[39mtry\u001b[39;00m:\n\u001b[0;32m-> <a href='file:///Users/enyi/miniconda3/lib/python3.9/site-packages/pint_xarray/accessors.py?line=1039'>1040</a>\u001b[0m     new_units[name] \u001b[39m=\u001b[39m _decide_units(unit, registry, attr)\n\u001b[1;32m   <a href='file:///Users/enyi/miniconda3/lib/python3.9/site-packages/pint_xarray/accessors.py?line=1040'>1041</a>\u001b[0m \u001b[39mexcept\u001b[39;00m (\u001b[39mValueError\u001b[39;00m, pint\u001b[39m.\u001b[39mUndefinedUnitError) \u001b[39mas\u001b[39;00m e:\n",
      "File \u001b[0;32m~/miniconda3/lib/python3.9/site-packages/pint_xarray/accessors.py:146\u001b[0m, in \u001b[0;36m_decide_units\u001b[0;34m(units, registry, unit_attribute)\u001b[0m\n\u001b[1;32m    <a href='file:///Users/enyi/miniconda3/lib/python3.9/site-packages/pint_xarray/accessors.py?line=144'>145</a>\u001b[0m         \u001b[39mreturn\u001b[39;00m unit_attribute\n\u001b[0;32m--> <a href='file:///Users/enyi/miniconda3/lib/python3.9/site-packages/pint_xarray/accessors.py?line=145'>146</a>\u001b[0m     units \u001b[39m=\u001b[39m registry\u001b[39m.\u001b[39;49mparse_units(unit_attribute)\n\u001b[1;32m    <a href='file:///Users/enyi/miniconda3/lib/python3.9/site-packages/pint_xarray/accessors.py?line=146'>147</a>\u001b[0m \u001b[39melse\u001b[39;00m:\n",
      "File \u001b[0;32m~/miniconda3/lib/python3.9/site-packages/pint/registry.py:1202\u001b[0m, in \u001b[0;36mBaseRegistry.parse_units\u001b[0;34m(self, input_string, as_delta, case_sensitive)\u001b[0m\n\u001b[1;32m   <a href='file:///Users/enyi/miniconda3/lib/python3.9/site-packages/pint/registry.py?line=1200'>1201</a>\u001b[0m     input_string \u001b[39m=\u001b[39m p(input_string)\n\u001b[0;32m-> <a href='file:///Users/enyi/miniconda3/lib/python3.9/site-packages/pint/registry.py?line=1201'>1202</a>\u001b[0m units \u001b[39m=\u001b[39m \u001b[39mself\u001b[39;49m\u001b[39m.\u001b[39;49m_parse_units(input_string, as_delta, case_sensitive)\n\u001b[1;32m   <a href='file:///Users/enyi/miniconda3/lib/python3.9/site-packages/pint/registry.py?line=1202'>1203</a>\u001b[0m \u001b[39mreturn\u001b[39;00m \u001b[39mself\u001b[39m\u001b[39m.\u001b[39mUnit(units)\n",
      "File \u001b[0;32m~/miniconda3/lib/python3.9/site-packages/pint/registry.py:1439\u001b[0m, in \u001b[0;36mNonMultiplicativeRegistry._parse_units\u001b[0;34m(self, input_string, as_delta, case_sensitive)\u001b[0m\n\u001b[1;32m   <a href='file:///Users/enyi/miniconda3/lib/python3.9/site-packages/pint/registry.py?line=1436'>1437</a>\u001b[0m     as_delta \u001b[39m=\u001b[39m \u001b[39mself\u001b[39m\u001b[39m.\u001b[39mdefault_as_delta\n\u001b[0;32m-> <a href='file:///Users/enyi/miniconda3/lib/python3.9/site-packages/pint/registry.py?line=1438'>1439</a>\u001b[0m \u001b[39mreturn\u001b[39;00m \u001b[39msuper\u001b[39;49m()\u001b[39m.\u001b[39;49m_parse_units(input_string, as_delta, case_sensitive)\n",
      "File \u001b[0;32m~/miniconda3/lib/python3.9/site-packages/pint/registry.py:1228\u001b[0m, in \u001b[0;36mBaseRegistry._parse_units\u001b[0;34m(self, input_string, as_delta, case_sensitive)\u001b[0m\n\u001b[1;32m   <a href='file:///Users/enyi/miniconda3/lib/python3.9/site-packages/pint/registry.py?line=1225'>1226</a>\u001b[0m input_string \u001b[39m=\u001b[39m input_string\u001b[39m.\u001b[39mstrip()\n\u001b[0;32m-> <a href='file:///Users/enyi/miniconda3/lib/python3.9/site-packages/pint/registry.py?line=1227'>1228</a>\u001b[0m units \u001b[39m=\u001b[39m ParserHelper\u001b[39m.\u001b[39;49mfrom_string(input_string, \u001b[39mself\u001b[39;49m\u001b[39m.\u001b[39;49mnon_int_type)\n\u001b[1;32m   <a href='file:///Users/enyi/miniconda3/lib/python3.9/site-packages/pint/registry.py?line=1228'>1229</a>\u001b[0m \u001b[39mif\u001b[39;00m units\u001b[39m.\u001b[39mscale \u001b[39m!=\u001b[39m \u001b[39m1\u001b[39m:\n",
      "File \u001b[0;32m~/miniconda3/lib/python3.9/site-packages/pint/util.py:624\u001b[0m, in \u001b[0;36mParserHelper.from_string\u001b[0;34m(cls, input_string, non_int_type)\u001b[0m\n\u001b[1;32m    <a href='file:///Users/enyi/miniconda3/lib/python3.9/site-packages/pint/util.py?line=622'>623</a>\u001b[0m gen \u001b[39m=\u001b[39m tokenizer(input_string)\n\u001b[0;32m--> <a href='file:///Users/enyi/miniconda3/lib/python3.9/site-packages/pint/util.py?line=623'>624</a>\u001b[0m ret \u001b[39m=\u001b[39m build_eval_tree(gen)\u001b[39m.\u001b[39;49mevaluate(\n\u001b[1;32m    <a href='file:///Users/enyi/miniconda3/lib/python3.9/site-packages/pint/util.py?line=624'>625</a>\u001b[0m     partial(\u001b[39mcls\u001b[39;49m\u001b[39m.\u001b[39;49meval_token, non_int_type\u001b[39m=\u001b[39;49mnon_int_type)\n\u001b[1;32m    <a href='file:///Users/enyi/miniconda3/lib/python3.9/site-packages/pint/util.py?line=625'>626</a>\u001b[0m )\n\u001b[1;32m    <a href='file:///Users/enyi/miniconda3/lib/python3.9/site-packages/pint/util.py?line=627'>628</a>\u001b[0m \u001b[39mif\u001b[39;00m \u001b[39misinstance\u001b[39m(ret, Number):\n",
      "File \u001b[0;32m~/miniconda3/lib/python3.9/site-packages/pint/pint_eval.py:112\u001b[0m, in \u001b[0;36mEvalTreeNode.evaluate\u001b[0;34m(self, define_op, bin_op, un_op)\u001b[0m\n\u001b[1;32m    <a href='file:///Users/enyi/miniconda3/lib/python3.9/site-packages/pint/pint_eval.py?line=110'>111</a>\u001b[0m     \u001b[39mraise\u001b[39;00m DefinitionSyntaxError(\u001b[39m'\u001b[39m\u001b[39mmissing binary operator \u001b[39m\u001b[39m\"\u001b[39m\u001b[39m%s\u001b[39;00m\u001b[39m\"\u001b[39m\u001b[39m'\u001b[39m \u001b[39m%\u001b[39m op_text)\n\u001b[0;32m--> <a href='file:///Users/enyi/miniconda3/lib/python3.9/site-packages/pint/pint_eval.py?line=111'>112</a>\u001b[0m left \u001b[39m=\u001b[39m \u001b[39mself\u001b[39;49m\u001b[39m.\u001b[39;49mleft\u001b[39m.\u001b[39;49mevaluate(define_op, bin_op, un_op)\n\u001b[1;32m    <a href='file:///Users/enyi/miniconda3/lib/python3.9/site-packages/pint/pint_eval.py?line=112'>113</a>\u001b[0m \u001b[39mreturn\u001b[39;00m bin_op[op_text](left, \u001b[39mself\u001b[39m\u001b[39m.\u001b[39mright\u001b[39m.\u001b[39mevaluate(define_op, bin_op, un_op))\n",
      "File \u001b[0;32m~/miniconda3/lib/python3.9/site-packages/pint/pint_eval.py:113\u001b[0m, in \u001b[0;36mEvalTreeNode.evaluate\u001b[0;34m(self, define_op, bin_op, un_op)\u001b[0m\n\u001b[1;32m    <a href='file:///Users/enyi/miniconda3/lib/python3.9/site-packages/pint/pint_eval.py?line=111'>112</a>\u001b[0m     left \u001b[39m=\u001b[39m \u001b[39mself\u001b[39m\u001b[39m.\u001b[39mleft\u001b[39m.\u001b[39mevaluate(define_op, bin_op, un_op)\n\u001b[0;32m--> <a href='file:///Users/enyi/miniconda3/lib/python3.9/site-packages/pint/pint_eval.py?line=112'>113</a>\u001b[0m     \u001b[39mreturn\u001b[39;00m bin_op[op_text](left, \u001b[39mself\u001b[39;49m\u001b[39m.\u001b[39;49mright\u001b[39m.\u001b[39;49mevaluate(define_op, bin_op, un_op))\n\u001b[1;32m    <a href='file:///Users/enyi/miniconda3/lib/python3.9/site-packages/pint/pint_eval.py?line=113'>114</a>\u001b[0m \u001b[39melif\u001b[39;00m \u001b[39mself\u001b[39m\u001b[39m.\u001b[39moperator:\n\u001b[1;32m    <a href='file:///Users/enyi/miniconda3/lib/python3.9/site-packages/pint/pint_eval.py?line=114'>115</a>\u001b[0m     \u001b[39m# unary operator\u001b[39;00m\n",
      "\u001b[0;31mTypeError\u001b[0m: unsupported operand type(s) for -: 'ParserHelper' and 'int'",
      "\nThe above exception was the direct cause of the following exception:\n",
      "\u001b[0;31mRuntimeError\u001b[0m                              Traceback (most recent call last)",
      "\u001b[1;32m/Users/enyi/Documents/Uni-Bremen/Project/OceanModelsEvaluation/region-mask.ipynb Cell 6'\u001b[0m in \u001b[0;36m<cell line: 11>\u001b[0;34m()\u001b[0m\n\u001b[1;32m      <a href='vscode-notebook-cell:/Users/enyi/Documents/Uni-Bremen/Project/OceanModelsEvaluation/region-mask.ipynb#ch0000005?line=8'>9</a>\u001b[0m z_kwargs \u001b[39m=\u001b[39m {\u001b[39m'\u001b[39m\u001b[39mconsolidated\u001b[39m\u001b[39m'\u001b[39m: \u001b[39mTrue\u001b[39;00m, \u001b[39m'\u001b[39m\u001b[39mdecode_times\u001b[39m\u001b[39m'\u001b[39m:\u001b[39mFalse\u001b[39;00m}\n\u001b[1;32m     <a href='vscode-notebook-cell:/Users/enyi/Documents/Uni-Bremen/Project/OceanModelsEvaluation/region-mask.ipynb#ch0000005?line=9'>10</a>\u001b[0m \u001b[39mprint\u001b[39m(combined_preprocessing, \u001b[39m\"\u001b[39m\u001b[39mcombined_preprocessing print\u001b[39m\u001b[39m\"\u001b[39m)\n\u001b[0;32m---> <a href='vscode-notebook-cell:/Users/enyi/Documents/Uni-Bremen/Project/OceanModelsEvaluation/region-mask.ipynb#ch0000005?line=10'>11</a>\u001b[0m data_dict \u001b[39m=\u001b[39m cat\u001b[39m.\u001b[39;49mto_dataset_dict(zarr_kwargs\u001b[39m=\u001b[39;49mz_kwargs,\n\u001b[1;32m     <a href='vscode-notebook-cell:/Users/enyi/Documents/Uni-Bremen/Project/OceanModelsEvaluation/region-mask.ipynb#ch0000005?line=11'>12</a>\u001b[0m                                 preprocess\u001b[39m=\u001b[39;49mcombined_preprocessing)\n",
      "File \u001b[0;32m~/miniconda3/lib/python3.9/site-packages/intake_esm/core.py:922\u001b[0m, in \u001b[0;36mesm_datastore.to_dataset_dict\u001b[0;34m(self, zarr_kwargs, cdf_kwargs, preprocess, storage_options, progressbar, aggregate)\u001b[0m\n\u001b[1;32m    <a href='file:///Users/enyi/miniconda3/lib/python3.9/site-packages/intake_esm/core.py?line=917'>918</a>\u001b[0m future_tasks \u001b[39m=\u001b[39m [\n\u001b[1;32m    <a href='file:///Users/enyi/miniconda3/lib/python3.9/site-packages/intake_esm/core.py?line=918'>919</a>\u001b[0m     executor\u001b[39m.\u001b[39msubmit(_load_source, key, source) \u001b[39mfor\u001b[39;00m key, source \u001b[39min\u001b[39;00m sources\u001b[39m.\u001b[39mitems()\n\u001b[1;32m    <a href='file:///Users/enyi/miniconda3/lib/python3.9/site-packages/intake_esm/core.py?line=919'>920</a>\u001b[0m ]\n\u001b[1;32m    <a href='file:///Users/enyi/miniconda3/lib/python3.9/site-packages/intake_esm/core.py?line=920'>921</a>\u001b[0m \u001b[39mfor\u001b[39;00m i, task \u001b[39min\u001b[39;00m \u001b[39menumerate\u001b[39m(concurrent\u001b[39m.\u001b[39mfutures\u001b[39m.\u001b[39mas_completed(future_tasks)):\n\u001b[0;32m--> <a href='file:///Users/enyi/miniconda3/lib/python3.9/site-packages/intake_esm/core.py?line=921'>922</a>\u001b[0m     key, ds \u001b[39m=\u001b[39m task\u001b[39m.\u001b[39;49mresult()\n\u001b[1;32m    <a href='file:///Users/enyi/miniconda3/lib/python3.9/site-packages/intake_esm/core.py?line=922'>923</a>\u001b[0m     \u001b[39mself\u001b[39m\u001b[39m.\u001b[39m_datasets[key] \u001b[39m=\u001b[39m ds\n\u001b[1;32m    <a href='file:///Users/enyi/miniconda3/lib/python3.9/site-packages/intake_esm/core.py?line=923'>924</a>\u001b[0m     \u001b[39mif\u001b[39;00m \u001b[39mself\u001b[39m\u001b[39m.\u001b[39mprogressbar:\n",
      "File \u001b[0;32m~/miniconda3/lib/python3.9/concurrent/futures/_base.py:439\u001b[0m, in \u001b[0;36mFuture.result\u001b[0;34m(self, timeout)\u001b[0m\n\u001b[1;32m    <a href='file:///Users/enyi/miniconda3/lib/python3.9/concurrent/futures/_base.py?line=436'>437</a>\u001b[0m     \u001b[39mraise\u001b[39;00m CancelledError()\n\u001b[1;32m    <a href='file:///Users/enyi/miniconda3/lib/python3.9/concurrent/futures/_base.py?line=437'>438</a>\u001b[0m \u001b[39melif\u001b[39;00m \u001b[39mself\u001b[39m\u001b[39m.\u001b[39m_state \u001b[39m==\u001b[39m FINISHED:\n\u001b[0;32m--> <a href='file:///Users/enyi/miniconda3/lib/python3.9/concurrent/futures/_base.py?line=438'>439</a>\u001b[0m     \u001b[39mreturn\u001b[39;00m \u001b[39mself\u001b[39;49m\u001b[39m.\u001b[39;49m__get_result()\n\u001b[1;32m    <a href='file:///Users/enyi/miniconda3/lib/python3.9/concurrent/futures/_base.py?line=440'>441</a>\u001b[0m \u001b[39mself\u001b[39m\u001b[39m.\u001b[39m_condition\u001b[39m.\u001b[39mwait(timeout)\n\u001b[1;32m    <a href='file:///Users/enyi/miniconda3/lib/python3.9/concurrent/futures/_base.py?line=442'>443</a>\u001b[0m \u001b[39mif\u001b[39;00m \u001b[39mself\u001b[39m\u001b[39m.\u001b[39m_state \u001b[39min\u001b[39;00m [CANCELLED, CANCELLED_AND_NOTIFIED]:\n",
      "File \u001b[0;32m~/miniconda3/lib/python3.9/concurrent/futures/_base.py:391\u001b[0m, in \u001b[0;36mFuture.__get_result\u001b[0;34m(self)\u001b[0m\n\u001b[1;32m    <a href='file:///Users/enyi/miniconda3/lib/python3.9/concurrent/futures/_base.py?line=388'>389</a>\u001b[0m \u001b[39mif\u001b[39;00m \u001b[39mself\u001b[39m\u001b[39m.\u001b[39m_exception:\n\u001b[1;32m    <a href='file:///Users/enyi/miniconda3/lib/python3.9/concurrent/futures/_base.py?line=389'>390</a>\u001b[0m     \u001b[39mtry\u001b[39;00m:\n\u001b[0;32m--> <a href='file:///Users/enyi/miniconda3/lib/python3.9/concurrent/futures/_base.py?line=390'>391</a>\u001b[0m         \u001b[39mraise\u001b[39;00m \u001b[39mself\u001b[39m\u001b[39m.\u001b[39m_exception\n\u001b[1;32m    <a href='file:///Users/enyi/miniconda3/lib/python3.9/concurrent/futures/_base.py?line=391'>392</a>\u001b[0m     \u001b[39mfinally\u001b[39;00m:\n\u001b[1;32m    <a href='file:///Users/enyi/miniconda3/lib/python3.9/concurrent/futures/_base.py?line=392'>393</a>\u001b[0m         \u001b[39m# Break a reference cycle with the exception in self._exception\u001b[39;00m\n\u001b[1;32m    <a href='file:///Users/enyi/miniconda3/lib/python3.9/concurrent/futures/_base.py?line=393'>394</a>\u001b[0m         \u001b[39mself\u001b[39m \u001b[39m=\u001b[39m \u001b[39mNone\u001b[39;00m\n",
      "File \u001b[0;32m~/miniconda3/lib/python3.9/concurrent/futures/thread.py:58\u001b[0m, in \u001b[0;36m_WorkItem.run\u001b[0;34m(self)\u001b[0m\n\u001b[1;32m     <a href='file:///Users/enyi/miniconda3/lib/python3.9/concurrent/futures/thread.py?line=54'>55</a>\u001b[0m     \u001b[39mreturn\u001b[39;00m\n\u001b[1;32m     <a href='file:///Users/enyi/miniconda3/lib/python3.9/concurrent/futures/thread.py?line=56'>57</a>\u001b[0m \u001b[39mtry\u001b[39;00m:\n\u001b[0;32m---> <a href='file:///Users/enyi/miniconda3/lib/python3.9/concurrent/futures/thread.py?line=57'>58</a>\u001b[0m     result \u001b[39m=\u001b[39m \u001b[39mself\u001b[39;49m\u001b[39m.\u001b[39;49mfn(\u001b[39m*\u001b[39;49m\u001b[39mself\u001b[39;49m\u001b[39m.\u001b[39;49margs, \u001b[39m*\u001b[39;49m\u001b[39m*\u001b[39;49m\u001b[39mself\u001b[39;49m\u001b[39m.\u001b[39;49mkwargs)\n\u001b[1;32m     <a href='file:///Users/enyi/miniconda3/lib/python3.9/concurrent/futures/thread.py?line=58'>59</a>\u001b[0m \u001b[39mexcept\u001b[39;00m \u001b[39mBaseException\u001b[39;00m \u001b[39mas\u001b[39;00m exc:\n\u001b[1;32m     <a href='file:///Users/enyi/miniconda3/lib/python3.9/concurrent/futures/thread.py?line=59'>60</a>\u001b[0m     \u001b[39mself\u001b[39m\u001b[39m.\u001b[39mfuture\u001b[39m.\u001b[39mset_exception(exc)\n",
      "File \u001b[0;32m~/miniconda3/lib/python3.9/site-packages/intake_esm/core.py:908\u001b[0m, in \u001b[0;36mesm_datastore.to_dataset_dict.<locals>._load_source\u001b[0;34m(key, source)\u001b[0m\n\u001b[1;32m    <a href='file:///Users/enyi/miniconda3/lib/python3.9/site-packages/intake_esm/core.py?line=906'>907</a>\u001b[0m \u001b[39mdef\u001b[39;00m \u001b[39m_load_source\u001b[39m(key, source):\n\u001b[0;32m--> <a href='file:///Users/enyi/miniconda3/lib/python3.9/site-packages/intake_esm/core.py?line=907'>908</a>\u001b[0m     \u001b[39mreturn\u001b[39;00m key, source\u001b[39m.\u001b[39;49mto_dask()\n",
      "File \u001b[0;32m~/miniconda3/lib/python3.9/site-packages/intake_esm/source.py:245\u001b[0m, in \u001b[0;36mESMGroupDataSource.to_dask\u001b[0;34m(self)\u001b[0m\n\u001b[1;32m    <a href='file:///Users/enyi/miniconda3/lib/python3.9/site-packages/intake_esm/source.py?line=242'>243</a>\u001b[0m \u001b[39mdef\u001b[39;00m \u001b[39mto_dask\u001b[39m(\u001b[39mself\u001b[39m):\n\u001b[1;32m    <a href='file:///Users/enyi/miniconda3/lib/python3.9/site-packages/intake_esm/source.py?line=243'>244</a>\u001b[0m     \u001b[39m\"\"\"Return xarray object (which will have chunks)\"\"\"\u001b[39;00m\n\u001b[0;32m--> <a href='file:///Users/enyi/miniconda3/lib/python3.9/site-packages/intake_esm/source.py?line=244'>245</a>\u001b[0m     \u001b[39mself\u001b[39;49m\u001b[39m.\u001b[39;49m_load_metadata()\n\u001b[1;32m    <a href='file:///Users/enyi/miniconda3/lib/python3.9/site-packages/intake_esm/source.py?line=245'>246</a>\u001b[0m     \u001b[39mreturn\u001b[39;00m \u001b[39mself\u001b[39m\u001b[39m.\u001b[39m_ds\n",
      "File \u001b[0;32m~/miniconda3/lib/python3.9/site-packages/intake/source/base.py:236\u001b[0m, in \u001b[0;36mDataSourceBase._load_metadata\u001b[0;34m(self)\u001b[0m\n\u001b[1;32m    <a href='file:///Users/enyi/miniconda3/lib/python3.9/site-packages/intake/source/base.py?line=233'>234</a>\u001b[0m \u001b[39m\"\"\"load metadata only if needed\"\"\"\u001b[39;00m\n\u001b[1;32m    <a href='file:///Users/enyi/miniconda3/lib/python3.9/site-packages/intake/source/base.py?line=234'>235</a>\u001b[0m \u001b[39mif\u001b[39;00m \u001b[39mself\u001b[39m\u001b[39m.\u001b[39m_schema \u001b[39mis\u001b[39;00m \u001b[39mNone\u001b[39;00m:\n\u001b[0;32m--> <a href='file:///Users/enyi/miniconda3/lib/python3.9/site-packages/intake/source/base.py?line=235'>236</a>\u001b[0m     \u001b[39mself\u001b[39m\u001b[39m.\u001b[39m_schema \u001b[39m=\u001b[39m \u001b[39mself\u001b[39;49m\u001b[39m.\u001b[39;49m_get_schema()\n\u001b[1;32m    <a href='file:///Users/enyi/miniconda3/lib/python3.9/site-packages/intake/source/base.py?line=236'>237</a>\u001b[0m     \u001b[39mself\u001b[39m\u001b[39m.\u001b[39mdtype \u001b[39m=\u001b[39m \u001b[39mself\u001b[39m\u001b[39m.\u001b[39m_schema\u001b[39m.\u001b[39mdtype\n\u001b[1;32m    <a href='file:///Users/enyi/miniconda3/lib/python3.9/site-packages/intake/source/base.py?line=237'>238</a>\u001b[0m     \u001b[39mself\u001b[39m\u001b[39m.\u001b[39mshape \u001b[39m=\u001b[39m \u001b[39mself\u001b[39m\u001b[39m.\u001b[39m_schema\u001b[39m.\u001b[39mshape\n",
      "File \u001b[0;32m~/miniconda3/lib/python3.9/site-packages/intake_esm/source.py:174\u001b[0m, in \u001b[0;36mESMGroupDataSource._get_schema\u001b[0;34m(self)\u001b[0m\n\u001b[1;32m    <a href='file:///Users/enyi/miniconda3/lib/python3.9/site-packages/intake_esm/source.py?line=170'>171</a>\u001b[0m \u001b[39mdef\u001b[39;00m \u001b[39m_get_schema\u001b[39m(\u001b[39mself\u001b[39m):\n\u001b[1;32m    <a href='file:///Users/enyi/miniconda3/lib/python3.9/site-packages/intake_esm/source.py?line=172'>173</a>\u001b[0m     \u001b[39mif\u001b[39;00m \u001b[39mself\u001b[39m\u001b[39m.\u001b[39m_ds \u001b[39mis\u001b[39;00m \u001b[39mNone\u001b[39;00m:\n\u001b[0;32m--> <a href='file:///Users/enyi/miniconda3/lib/python3.9/site-packages/intake_esm/source.py?line=173'>174</a>\u001b[0m         \u001b[39mself\u001b[39;49m\u001b[39m.\u001b[39;49m_open_dataset()\n\u001b[1;32m    <a href='file:///Users/enyi/miniconda3/lib/python3.9/site-packages/intake_esm/source.py?line=175'>176</a>\u001b[0m         metadata \u001b[39m=\u001b[39m {\n\u001b[1;32m    <a href='file:///Users/enyi/miniconda3/lib/python3.9/site-packages/intake_esm/source.py?line=176'>177</a>\u001b[0m             \u001b[39m'\u001b[39m\u001b[39mdims\u001b[39m\u001b[39m'\u001b[39m: \u001b[39mdict\u001b[39m(\u001b[39mself\u001b[39m\u001b[39m.\u001b[39m_ds\u001b[39m.\u001b[39mdims),\n\u001b[1;32m    <a href='file:///Users/enyi/miniconda3/lib/python3.9/site-packages/intake_esm/source.py?line=177'>178</a>\u001b[0m             \u001b[39m'\u001b[39m\u001b[39mdata_vars\u001b[39m\u001b[39m'\u001b[39m: {k: \u001b[39mlist\u001b[39m(\u001b[39mself\u001b[39m\u001b[39m.\u001b[39m_ds[k]\u001b[39m.\u001b[39mcoords) \u001b[39mfor\u001b[39;00m k \u001b[39min\u001b[39;00m \u001b[39mself\u001b[39m\u001b[39m.\u001b[39m_ds\u001b[39m.\u001b[39mdata_vars\u001b[39m.\u001b[39mkeys()},\n\u001b[1;32m    <a href='file:///Users/enyi/miniconda3/lib/python3.9/site-packages/intake_esm/source.py?line=178'>179</a>\u001b[0m             \u001b[39m'\u001b[39m\u001b[39mcoords\u001b[39m\u001b[39m'\u001b[39m: \u001b[39mtuple\u001b[39m(\u001b[39mself\u001b[39m\u001b[39m.\u001b[39m_ds\u001b[39m.\u001b[39mcoords\u001b[39m.\u001b[39mkeys()),\n\u001b[1;32m    <a href='file:///Users/enyi/miniconda3/lib/python3.9/site-packages/intake_esm/source.py?line=179'>180</a>\u001b[0m         }\n\u001b[1;32m    <a href='file:///Users/enyi/miniconda3/lib/python3.9/site-packages/intake_esm/source.py?line=180'>181</a>\u001b[0m         \u001b[39mself\u001b[39m\u001b[39m.\u001b[39m_schema \u001b[39m=\u001b[39m Schema(\n\u001b[1;32m    <a href='file:///Users/enyi/miniconda3/lib/python3.9/site-packages/intake_esm/source.py?line=181'>182</a>\u001b[0m             datashape\u001b[39m=\u001b[39m\u001b[39mNone\u001b[39;00m,\n\u001b[1;32m    <a href='file:///Users/enyi/miniconda3/lib/python3.9/site-packages/intake_esm/source.py?line=182'>183</a>\u001b[0m             dtype\u001b[39m=\u001b[39m\u001b[39mNone\u001b[39;00m,\n\u001b[0;32m   (...)\u001b[0m\n\u001b[1;32m    <a href='file:///Users/enyi/miniconda3/lib/python3.9/site-packages/intake_esm/source.py?line=185'>186</a>\u001b[0m             extra_metadata\u001b[39m=\u001b[39mmetadata,\n\u001b[1;32m    <a href='file:///Users/enyi/miniconda3/lib/python3.9/site-packages/intake_esm/source.py?line=186'>187</a>\u001b[0m         )\n",
      "File \u001b[0;32m~/miniconda3/lib/python3.9/site-packages/intake_esm/source.py:226\u001b[0m, in \u001b[0;36mESMGroupDataSource._open_dataset\u001b[0;34m(self)\u001b[0m\n\u001b[1;32m    <a href='file:///Users/enyi/miniconda3/lib/python3.9/site-packages/intake_esm/source.py?line=211'>212</a>\u001b[0m     \u001b[39mreturn\u001b[39;00m (path, ds)\n\u001b[1;32m    <a href='file:///Users/enyi/miniconda3/lib/python3.9/site-packages/intake_esm/source.py?line=213'>214</a>\u001b[0m datasets \u001b[39m=\u001b[39m [\n\u001b[1;32m    <a href='file:///Users/enyi/miniconda3/lib/python3.9/site-packages/intake_esm/source.py?line=214'>215</a>\u001b[0m     read_dataset(\n\u001b[1;32m    <a href='file:///Users/enyi/miniconda3/lib/python3.9/site-packages/intake_esm/source.py?line=215'>216</a>\u001b[0m         row[\u001b[39mself\u001b[39m\u001b[39m.\u001b[39mpath_column],\n\u001b[0;32m   (...)\u001b[0m\n\u001b[1;32m    <a href='file:///Users/enyi/miniconda3/lib/python3.9/site-packages/intake_esm/source.py?line=223'>224</a>\u001b[0m     \u001b[39mfor\u001b[39;00m _, row \u001b[39min\u001b[39;00m \u001b[39mself\u001b[39m\u001b[39m.\u001b[39mdf\u001b[39m.\u001b[39miterrows()\n\u001b[1;32m    <a href='file:///Users/enyi/miniconda3/lib/python3.9/site-packages/intake_esm/source.py?line=224'>225</a>\u001b[0m ]\n\u001b[0;32m--> <a href='file:///Users/enyi/miniconda3/lib/python3.9/site-packages/intake_esm/source.py?line=225'>226</a>\u001b[0m datasets \u001b[39m=\u001b[39m dask\u001b[39m.\u001b[39;49mcompute(\u001b[39m*\u001b[39;49mdatasets)\n\u001b[1;32m    <a href='file:///Users/enyi/miniconda3/lib/python3.9/site-packages/intake_esm/source.py?line=226'>227</a>\u001b[0m mapper_dict \u001b[39m=\u001b[39m \u001b[39mdict\u001b[39m(datasets)\n\u001b[1;32m    <a href='file:///Users/enyi/miniconda3/lib/python3.9/site-packages/intake_esm/source.py?line=227'>228</a>\u001b[0m nd \u001b[39m=\u001b[39m create_nested_dict(\u001b[39mself\u001b[39m\u001b[39m.\u001b[39mdf, \u001b[39mself\u001b[39m\u001b[39m.\u001b[39mpath_column, \u001b[39mself\u001b[39m\u001b[39m.\u001b[39maggregation_columns)\n",
      "File \u001b[0;32m~/miniconda3/lib/python3.9/site-packages/dask/base.py:575\u001b[0m, in \u001b[0;36mcompute\u001b[0;34m(traverse, optimize_graph, scheduler, get, *args, **kwargs)\u001b[0m\n\u001b[1;32m    <a href='file:///Users/enyi/miniconda3/lib/python3.9/site-packages/dask/base.py?line=571'>572</a>\u001b[0m     keys\u001b[39m.\u001b[39mappend(x\u001b[39m.\u001b[39m__dask_keys__())\n\u001b[1;32m    <a href='file:///Users/enyi/miniconda3/lib/python3.9/site-packages/dask/base.py?line=572'>573</a>\u001b[0m     postcomputes\u001b[39m.\u001b[39mappend(x\u001b[39m.\u001b[39m__dask_postcompute__())\n\u001b[0;32m--> <a href='file:///Users/enyi/miniconda3/lib/python3.9/site-packages/dask/base.py?line=574'>575</a>\u001b[0m results \u001b[39m=\u001b[39m schedule(dsk, keys, \u001b[39m*\u001b[39;49m\u001b[39m*\u001b[39;49mkwargs)\n\u001b[1;32m    <a href='file:///Users/enyi/miniconda3/lib/python3.9/site-packages/dask/base.py?line=575'>576</a>\u001b[0m \u001b[39mreturn\u001b[39;00m repack([f(r, \u001b[39m*\u001b[39ma) \u001b[39mfor\u001b[39;00m r, (f, a) \u001b[39min\u001b[39;00m \u001b[39mzip\u001b[39m(results, postcomputes)])\n",
      "File \u001b[0;32m~/miniconda3/lib/python3.9/site-packages/dask/threaded.py:81\u001b[0m, in \u001b[0;36mget\u001b[0;34m(dsk, result, cache, num_workers, pool, **kwargs)\u001b[0m\n\u001b[1;32m     <a href='file:///Users/enyi/miniconda3/lib/python3.9/site-packages/dask/threaded.py?line=77'>78</a>\u001b[0m     \u001b[39melif\u001b[39;00m \u001b[39misinstance\u001b[39m(pool, multiprocessing\u001b[39m.\u001b[39mpool\u001b[39m.\u001b[39mPool):\n\u001b[1;32m     <a href='file:///Users/enyi/miniconda3/lib/python3.9/site-packages/dask/threaded.py?line=78'>79</a>\u001b[0m         pool \u001b[39m=\u001b[39m MultiprocessingPoolExecutor(pool)\n\u001b[0;32m---> <a href='file:///Users/enyi/miniconda3/lib/python3.9/site-packages/dask/threaded.py?line=80'>81</a>\u001b[0m results \u001b[39m=\u001b[39m get_async(\n\u001b[1;32m     <a href='file:///Users/enyi/miniconda3/lib/python3.9/site-packages/dask/threaded.py?line=81'>82</a>\u001b[0m     pool\u001b[39m.\u001b[39;49msubmit,\n\u001b[1;32m     <a href='file:///Users/enyi/miniconda3/lib/python3.9/site-packages/dask/threaded.py?line=82'>83</a>\u001b[0m     pool\u001b[39m.\u001b[39;49m_max_workers,\n\u001b[1;32m     <a href='file:///Users/enyi/miniconda3/lib/python3.9/site-packages/dask/threaded.py?line=83'>84</a>\u001b[0m     dsk,\n\u001b[1;32m     <a href='file:///Users/enyi/miniconda3/lib/python3.9/site-packages/dask/threaded.py?line=84'>85</a>\u001b[0m     result,\n\u001b[1;32m     <a href='file:///Users/enyi/miniconda3/lib/python3.9/site-packages/dask/threaded.py?line=85'>86</a>\u001b[0m     cache\u001b[39m=\u001b[39;49mcache,\n\u001b[1;32m     <a href='file:///Users/enyi/miniconda3/lib/python3.9/site-packages/dask/threaded.py?line=86'>87</a>\u001b[0m     get_id\u001b[39m=\u001b[39;49m_thread_get_id,\n\u001b[1;32m     <a href='file:///Users/enyi/miniconda3/lib/python3.9/site-packages/dask/threaded.py?line=87'>88</a>\u001b[0m     pack_exception\u001b[39m=\u001b[39;49mpack_exception,\n\u001b[1;32m     <a href='file:///Users/enyi/miniconda3/lib/python3.9/site-packages/dask/threaded.py?line=88'>89</a>\u001b[0m     \u001b[39m*\u001b[39;49m\u001b[39m*\u001b[39;49mkwargs,\n\u001b[1;32m     <a href='file:///Users/enyi/miniconda3/lib/python3.9/site-packages/dask/threaded.py?line=89'>90</a>\u001b[0m )\n\u001b[1;32m     <a href='file:///Users/enyi/miniconda3/lib/python3.9/site-packages/dask/threaded.py?line=91'>92</a>\u001b[0m \u001b[39m# Cleanup pools associated to dead threads\u001b[39;00m\n\u001b[1;32m     <a href='file:///Users/enyi/miniconda3/lib/python3.9/site-packages/dask/threaded.py?line=92'>93</a>\u001b[0m \u001b[39mwith\u001b[39;00m pools_lock:\n",
      "File \u001b[0;32m~/miniconda3/lib/python3.9/site-packages/dask/local.py:508\u001b[0m, in \u001b[0;36mget_async\u001b[0;34m(submit, num_workers, dsk, result, cache, get_id, rerun_exceptions_locally, pack_exception, raise_exception, callbacks, dumps, loads, chunksize, **kwargs)\u001b[0m\n\u001b[1;32m    <a href='file:///Users/enyi/miniconda3/lib/python3.9/site-packages/dask/local.py?line=505'>506</a>\u001b[0m         _execute_task(task, data)  \u001b[39m# Re-execute locally\u001b[39;00m\n\u001b[1;32m    <a href='file:///Users/enyi/miniconda3/lib/python3.9/site-packages/dask/local.py?line=506'>507</a>\u001b[0m     \u001b[39melse\u001b[39;00m:\n\u001b[0;32m--> <a href='file:///Users/enyi/miniconda3/lib/python3.9/site-packages/dask/local.py?line=507'>508</a>\u001b[0m         raise_exception(exc, tb)\n\u001b[1;32m    <a href='file:///Users/enyi/miniconda3/lib/python3.9/site-packages/dask/local.py?line=508'>509</a>\u001b[0m res, worker_id \u001b[39m=\u001b[39m loads(res_info)\n\u001b[1;32m    <a href='file:///Users/enyi/miniconda3/lib/python3.9/site-packages/dask/local.py?line=509'>510</a>\u001b[0m state[\u001b[39m\"\u001b[39m\u001b[39mcache\u001b[39m\u001b[39m\"\u001b[39m][key] \u001b[39m=\u001b[39m res\n",
      "File \u001b[0;32m~/miniconda3/lib/python3.9/site-packages/dask/local.py:316\u001b[0m, in \u001b[0;36mreraise\u001b[0;34m(exc, tb)\u001b[0m\n\u001b[1;32m    <a href='file:///Users/enyi/miniconda3/lib/python3.9/site-packages/dask/local.py?line=313'>314</a>\u001b[0m \u001b[39mif\u001b[39;00m exc\u001b[39m.\u001b[39m__traceback__ \u001b[39mis\u001b[39;00m \u001b[39mnot\u001b[39;00m tb:\n\u001b[1;32m    <a href='file:///Users/enyi/miniconda3/lib/python3.9/site-packages/dask/local.py?line=314'>315</a>\u001b[0m     \u001b[39mraise\u001b[39;00m exc\u001b[39m.\u001b[39mwith_traceback(tb)\n\u001b[0;32m--> <a href='file:///Users/enyi/miniconda3/lib/python3.9/site-packages/dask/local.py?line=315'>316</a>\u001b[0m \u001b[39mraise\u001b[39;00m exc\n",
      "File \u001b[0;32m~/miniconda3/lib/python3.9/site-packages/dask/local.py:221\u001b[0m, in \u001b[0;36mexecute_task\u001b[0;34m(key, task_info, dumps, loads, get_id, pack_exception)\u001b[0m\n\u001b[1;32m    <a href='file:///Users/enyi/miniconda3/lib/python3.9/site-packages/dask/local.py?line=218'>219</a>\u001b[0m \u001b[39mtry\u001b[39;00m:\n\u001b[1;32m    <a href='file:///Users/enyi/miniconda3/lib/python3.9/site-packages/dask/local.py?line=219'>220</a>\u001b[0m     task, data \u001b[39m=\u001b[39m loads(task_info)\n\u001b[0;32m--> <a href='file:///Users/enyi/miniconda3/lib/python3.9/site-packages/dask/local.py?line=220'>221</a>\u001b[0m     result \u001b[39m=\u001b[39m _execute_task(task, data)\n\u001b[1;32m    <a href='file:///Users/enyi/miniconda3/lib/python3.9/site-packages/dask/local.py?line=221'>222</a>\u001b[0m     \u001b[39mid\u001b[39m \u001b[39m=\u001b[39m get_id()\n\u001b[1;32m    <a href='file:///Users/enyi/miniconda3/lib/python3.9/site-packages/dask/local.py?line=222'>223</a>\u001b[0m     result \u001b[39m=\u001b[39m dumps((result, \u001b[39mid\u001b[39m))\n",
      "File \u001b[0;32m~/miniconda3/lib/python3.9/site-packages/dask/core.py:119\u001b[0m, in \u001b[0;36m_execute_task\u001b[0;34m(arg, cache, dsk)\u001b[0m\n\u001b[1;32m    <a href='file:///Users/enyi/miniconda3/lib/python3.9/site-packages/dask/core.py?line=114'>115</a>\u001b[0m     func, args \u001b[39m=\u001b[39m arg[\u001b[39m0\u001b[39m], arg[\u001b[39m1\u001b[39m:]\n\u001b[1;32m    <a href='file:///Users/enyi/miniconda3/lib/python3.9/site-packages/dask/core.py?line=115'>116</a>\u001b[0m     \u001b[39m# Note: Don't assign the subtask results to a variable. numpy detects\u001b[39;00m\n\u001b[1;32m    <a href='file:///Users/enyi/miniconda3/lib/python3.9/site-packages/dask/core.py?line=116'>117</a>\u001b[0m     \u001b[39m# temporaries by their reference count and can execute certain\u001b[39;00m\n\u001b[1;32m    <a href='file:///Users/enyi/miniconda3/lib/python3.9/site-packages/dask/core.py?line=117'>118</a>\u001b[0m     \u001b[39m# operations in-place.\u001b[39;00m\n\u001b[0;32m--> <a href='file:///Users/enyi/miniconda3/lib/python3.9/site-packages/dask/core.py?line=118'>119</a>\u001b[0m     \u001b[39mreturn\u001b[39;00m func(\u001b[39m*\u001b[39;49m(_execute_task(a, cache) \u001b[39mfor\u001b[39;49;00m a \u001b[39min\u001b[39;49;00m args))\n\u001b[1;32m    <a href='file:///Users/enyi/miniconda3/lib/python3.9/site-packages/dask/core.py?line=119'>120</a>\u001b[0m \u001b[39melif\u001b[39;00m \u001b[39mnot\u001b[39;00m ishashable(arg):\n\u001b[1;32m    <a href='file:///Users/enyi/miniconda3/lib/python3.9/site-packages/dask/core.py?line=120'>121</a>\u001b[0m     \u001b[39mreturn\u001b[39;00m arg\n",
      "File \u001b[0;32m~/miniconda3/lib/python3.9/site-packages/intake_esm/source.py:203\u001b[0m, in \u001b[0;36mESMGroupDataSource._open_dataset.<locals>.read_dataset\u001b[0;34m(path, data_format, storage_options, cdf_kwargs, zarr_kwargs, preprocess, varname)\u001b[0m\n\u001b[1;32m    <a href='file:///Users/enyi/miniconda3/lib/python3.9/site-packages/intake_esm/source.py?line=190'>191</a>\u001b[0m \u001b[39m@dask\u001b[39m\u001b[39m.\u001b[39mdelayed\n\u001b[1;32m    <a href='file:///Users/enyi/miniconda3/lib/python3.9/site-packages/intake_esm/source.py?line=191'>192</a>\u001b[0m \u001b[39mdef\u001b[39;00m \u001b[39mread_dataset\u001b[39m(\n\u001b[1;32m    <a href='file:///Users/enyi/miniconda3/lib/python3.9/site-packages/intake_esm/source.py?line=192'>193</a>\u001b[0m     path,\n\u001b[0;32m   (...)\u001b[0m\n\u001b[1;32m    <a href='file:///Users/enyi/miniconda3/lib/python3.9/site-packages/intake_esm/source.py?line=199'>200</a>\u001b[0m ):\n\u001b[1;32m    <a href='file:///Users/enyi/miniconda3/lib/python3.9/site-packages/intake_esm/source.py?line=200'>201</a>\u001b[0m     \u001b[39m# replace path column with mapper (dependent on filesystem type)\u001b[39;00m\n\u001b[1;32m    <a href='file:///Users/enyi/miniconda3/lib/python3.9/site-packages/intake_esm/source.py?line=201'>202</a>\u001b[0m     mapper \u001b[39m=\u001b[39m _path_to_mapper(path, storage_options, data_format)\n\u001b[0;32m--> <a href='file:///Users/enyi/miniconda3/lib/python3.9/site-packages/intake_esm/source.py?line=202'>203</a>\u001b[0m     ds \u001b[39m=\u001b[39m _open_asset(\n\u001b[1;32m    <a href='file:///Users/enyi/miniconda3/lib/python3.9/site-packages/intake_esm/source.py?line=203'>204</a>\u001b[0m         mapper,\n\u001b[1;32m    <a href='file:///Users/enyi/miniconda3/lib/python3.9/site-packages/intake_esm/source.py?line=204'>205</a>\u001b[0m         data_format\u001b[39m=\u001b[39;49mdata_format,\n\u001b[1;32m    <a href='file:///Users/enyi/miniconda3/lib/python3.9/site-packages/intake_esm/source.py?line=205'>206</a>\u001b[0m         zarr_kwargs\u001b[39m=\u001b[39;49mzarr_kwargs,\n\u001b[1;32m    <a href='file:///Users/enyi/miniconda3/lib/python3.9/site-packages/intake_esm/source.py?line=206'>207</a>\u001b[0m         cdf_kwargs\u001b[39m=\u001b[39;49mcdf_kwargs,\n\u001b[1;32m    <a href='file:///Users/enyi/miniconda3/lib/python3.9/site-packages/intake_esm/source.py?line=207'>208</a>\u001b[0m         preprocess\u001b[39m=\u001b[39;49mpreprocess,\n\u001b[1;32m    <a href='file:///Users/enyi/miniconda3/lib/python3.9/site-packages/intake_esm/source.py?line=208'>209</a>\u001b[0m         varname\u001b[39m=\u001b[39;49mvarname,\n\u001b[1;32m    <a href='file:///Users/enyi/miniconda3/lib/python3.9/site-packages/intake_esm/source.py?line=209'>210</a>\u001b[0m         requested_variables\u001b[39m=\u001b[39;49m\u001b[39mself\u001b[39;49m\u001b[39m.\u001b[39;49mrequested_variables,\n\u001b[1;32m    <a href='file:///Users/enyi/miniconda3/lib/python3.9/site-packages/intake_esm/source.py?line=210'>211</a>\u001b[0m     )\n\u001b[1;32m    <a href='file:///Users/enyi/miniconda3/lib/python3.9/site-packages/intake_esm/source.py?line=211'>212</a>\u001b[0m     \u001b[39mreturn\u001b[39;00m (path, ds)\n",
      "File \u001b[0;32m~/miniconda3/lib/python3.9/site-packages/intake_esm/merge_util.py:314\u001b[0m, in \u001b[0;36m_open_asset\u001b[0;34m(path, data_format, zarr_kwargs, cdf_kwargs, preprocess, varname, requested_variables)\u001b[0m\n\u001b[1;32m    <a href='file:///Users/enyi/miniconda3/lib/python3.9/site-packages/intake_esm/merge_util.py?line=311'>312</a>\u001b[0m         ds \u001b[39m=\u001b[39m preprocess(ds)\n\u001b[1;32m    <a href='file:///Users/enyi/miniconda3/lib/python3.9/site-packages/intake_esm/merge_util.py?line=312'>313</a>\u001b[0m     \u001b[39mexcept\u001b[39;00m \u001b[39mException\u001b[39;00m \u001b[39mas\u001b[39;00m exc:\n\u001b[0;32m--> <a href='file:///Users/enyi/miniconda3/lib/python3.9/site-packages/intake_esm/merge_util.py?line=313'>314</a>\u001b[0m         \u001b[39mraise\u001b[39;00m \u001b[39mRuntimeError\u001b[39;00m(\n\u001b[1;32m    <a href='file:///Users/enyi/miniconda3/lib/python3.9/site-packages/intake_esm/merge_util.py?line=314'>315</a>\u001b[0m             \u001b[39mf\u001b[39m\u001b[39m'\u001b[39m\u001b[39mFailed to apply pre-processing function: \u001b[39m\u001b[39m{\u001b[39;00mpreprocess\u001b[39m.\u001b[39m\u001b[39m__name__\u001b[39m\u001b[39m}\u001b[39;00m\u001b[39m'\u001b[39m\n\u001b[1;32m    <a href='file:///Users/enyi/miniconda3/lib/python3.9/site-packages/intake_esm/merge_util.py?line=315'>316</a>\u001b[0m         ) \u001b[39mfrom\u001b[39;00m \u001b[39mexc\u001b[39;00m\n\u001b[1;32m    <a href='file:///Users/enyi/miniconda3/lib/python3.9/site-packages/intake_esm/merge_util.py?line=317'>318</a>\u001b[0m \u001b[39mif\u001b[39;00m varname:\n\u001b[1;32m    <a href='file:///Users/enyi/miniconda3/lib/python3.9/site-packages/intake_esm/merge_util.py?line=318'>319</a>\u001b[0m     \u001b[39mif\u001b[39;00m \u001b[39misinstance\u001b[39m(varname, \u001b[39mstr\u001b[39m):\n",
      "\u001b[0;31mRuntimeError\u001b[0m: Failed to apply pre-processing function: combined_preprocessing"
     ]
    }
   ],
   "source": [
    "# import example cloud datasets\n",
    "col_url = \"https://raw.githubusercontent.com/NCAR/intake-esm-datastore/master/catalogs/pangeo-cmip6.json\"\n",
    "col = intake.open_esm_datastore(col_url)\n",
    "cat = col.search(source_id=['CAMS-CSM1-0', 'CNRM-CM6-1', 'CNRM-ESM2-1', 'ACCESS-CM2', 'ACCESS-ESM1-5', 'EC-Earth3-Veg',\n",
    "                            'MIROC-ES2L', 'MIROC6', 'HadGEM3-GC31-LL', 'UKESM1-0-LL', 'MPI-ESM1-2-HR', 'MRI-ESM2-0',\n",
    "                            'NorCPM1', 'GFDL-CM4', 'GFDL-ESM4', 'NESM3'],\n",
    "                 experiment_id='historical', variable_id='thetao')\n",
    "data_dict = cat.to_dataset_dict(zarr_kwargs={'consolidated': True, 'decode_times': False},\n",
    "                                preprocess=combined_preprocessing)"
   ]
  },
  {
   "cell_type": "markdown",
   "metadata": {},
   "source": [
    "First we need to load the natural earth ocean basins."
   ]
  },
  {
   "cell_type": "code",
   "execution_count": null,
   "metadata": {},
   "outputs": [],
   "source": [
    "# load ocean basin data\n",
    "basins = regionmask.defined_regions.natural_earth.ocean_basins_50\n",
    "basins.plot(add_ocean=False, add_label=False)"
   ]
  },
  {
   "cell_type": "code",
   "execution_count": null,
   "metadata": {},
   "outputs": [],
   "source": [
    "from cmip6_preprocessing.regionmask import merged_mask"
   ]
  },
  {
   "cell_type": "markdown",
   "metadata": {},
   "source": [
    "When using the defaults this will index the North and South Pacific with numeric values of 2 and 3 respectively. The Maritime Continent gets a separate index (4). We will now load example data from many CMIP6 models, create the mask, and select only the points with values 2,3, and 4."
   ]
  },
  {
   "cell_type": "code",
   "execution_count": null,
   "metadata": {},
   "outputs": [],
   "source": [
    "# loop over models and mask out the pacific\n",
    "import cartopy.crs as ccrs\n",
    "\n",
    "for k, ds in data_dict.items():\n",
    "    if 'lev' in ds.dims:\n",
    "        model = ds.attrs['source_id']\n",
    "        if 'member_id' in ds.dims:\n",
    "            ds = ds.isel(member_id=0)\n",
    "        ds = ds.thetao.isel(time=0, lev=0).squeeze()\n",
    "\n",
    "        mask = merged_mask(basins,ds)\n",
    "\n",
    "        kwargs = dict(x='lon', y='lat',transform = ccrs.PlateCarree(), infer_intervals=False)\n",
    "        fig, (ax1, ax2, ax3) = plt.subplots(ncols=3, figsize=[20,2], subplot_kw={'projection':ccrs.Robinson(190)})\n",
    "        ds.plot(ax=ax1, **kwargs)\n",
    "        ax1.set_title(f\"Raw field {model}\")\n",
    "        \n",
    "        ds_masked = ds.where(np.logical_or(np.logical_or(mask == 2, mask==3),mask==4)) # Pacific + Maritime Continent\n",
    "        ds_masked.plot(ax=ax2, **kwargs)\n",
    "        ax2.set_title(f\"Masked Pacific {model}\")\n",
    "        mask.plot(ax=ax3, cmap='tab20', vmin=0, vmax=19, **kwargs)\n",
    "        ax3.set_title(f\"Full Mask {model}\")\n",
    "        for ax in [ax1, ax2, ax3]:\n",
    "            ax.coastlines()"
   ]
  }
 ],
 "metadata": {
  "interpreter": {
   "hash": "de99ebb2975561020f3938afa4d28d811e65e4c8c0eaef4affb89a726b993b2e"
  },
  "kernelspec": {
   "display_name": "Python 3.9.12 ('base')",
   "language": "python",
   "name": "python3"
  },
  "language_info": {
   "codemirror_mode": {
    "name": "ipython",
    "version": 3
   },
   "file_extension": ".py",
   "mimetype": "text/x-python",
   "name": "python",
   "nbconvert_exporter": "python",
   "pygments_lexer": "ipython3",
   "version": "3.9.12"
  },
  "orig_nbformat": 4
 },
 "nbformat": 4,
 "nbformat_minor": 2
}
